{
 "cells": [
  {
   "cell_type": "code",
   "execution_count": 1,
   "metadata": {},
   "outputs": [],
   "source": [
    "import json\n",
    "import pandas as pd\n",
    "pd.set_option('display.max_columns', None)\n",
    "pd.set_option('display.max_colwidth', 200)\n",
    "pd.set_option('display.width', 1000)\n",
    "# pd.options.display.float_format = '{:.3f}'.format"
   ]
  },
  {
   "cell_type": "code",
   "execution_count": 2,
   "metadata": {},
   "outputs": [
    {
     "data": {
      "text/html": [
       "<div>\n",
       "<style scoped>\n",
       "    .dataframe tbody tr th:only-of-type {\n",
       "        vertical-align: middle;\n",
       "    }\n",
       "\n",
       "    .dataframe tbody tr th {\n",
       "        vertical-align: top;\n",
       "    }\n",
       "\n",
       "    .dataframe thead th {\n",
       "        text-align: right;\n",
       "    }\n",
       "</style>\n",
       "<table border=\"1\" class=\"dataframe\">\n",
       "  <thead>\n",
       "    <tr style=\"text-align: right;\">\n",
       "      <th></th>\n",
       "      <th>collection</th>\n",
       "      <th>event_type</th>\n",
       "      <th>chain</th>\n",
       "      <th>tokenId</th>\n",
       "      <th>seller</th>\n",
       "      <th>buyer</th>\n",
       "      <th>quantity</th>\n",
       "      <th>price</th>\n",
       "      <th>decimals</th>\n",
       "      <th>symbol</th>\n",
       "      <th>transaction</th>\n",
       "      <th>event_timestamp</th>\n",
       "    </tr>\n",
       "  </thead>\n",
       "  <tbody>\n",
       "    <tr>\n",
       "      <th>0</th>\n",
       "      <td>pudgypenguins</td>\n",
       "      <td>sale</td>\n",
       "      <td>ethereum</td>\n",
       "      <td>4244</td>\n",
       "      <td>0x29469395eaf6f95920e59f858042f0e28d98a20b</td>\n",
       "      <td>0xa548d95378ec16e000563d89684c64869f72bc0d</td>\n",
       "      <td>1.0</td>\n",
       "      <td>10670000000000000000</td>\n",
       "      <td>18.0</td>\n",
       "      <td>WETH</td>\n",
       "      <td>0x23eb4e42b3166384d7782b210a4ecef27f68d15c994e622a824ebd7749a84fe9</td>\n",
       "      <td>1719699947</td>\n",
       "    </tr>\n",
       "    <tr>\n",
       "      <th>1</th>\n",
       "      <td>pudgypenguins</td>\n",
       "      <td>sale</td>\n",
       "      <td>ethereum</td>\n",
       "      <td>8435</td>\n",
       "      <td>0x7182113e9902a3157bef685fbe02981ddf388ea3</td>\n",
       "      <td>0xa548d95378ec16e000563d89684c64869f72bc0d</td>\n",
       "      <td>1.0</td>\n",
       "      <td>10670000000000000000</td>\n",
       "      <td>18.0</td>\n",
       "      <td>WETH</td>\n",
       "      <td>0x33e4fac65b578d5c095923a08aded3c694dea8572f933f79f841d375748faae7</td>\n",
       "      <td>1719699575</td>\n",
       "    </tr>\n",
       "    <tr>\n",
       "      <th>2</th>\n",
       "      <td>pudgypenguins</td>\n",
       "      <td>sale</td>\n",
       "      <td>ethereum</td>\n",
       "      <td>4436</td>\n",
       "      <td>0x96488f9fcd0c6997c771a26d85d1f61cacfa502c</td>\n",
       "      <td>0x1ea27bce786a81022dfc156059771e8d3279a9a6</td>\n",
       "      <td>1.0</td>\n",
       "      <td>10680000000000000000</td>\n",
       "      <td>18.0</td>\n",
       "      <td>WETH</td>\n",
       "      <td>0xa4ff7fca8114415714fa4f45df49806023920529791ee6a02ebd783ddac3fa41</td>\n",
       "      <td>1719693083</td>\n",
       "    </tr>\n",
       "    <tr>\n",
       "      <th>3</th>\n",
       "      <td>pudgypenguins</td>\n",
       "      <td>sale</td>\n",
       "      <td>ethereum</td>\n",
       "      <td>3259</td>\n",
       "      <td>0xf13532cc8f5c700dd30f9faf8b833b38cf78c7d6</td>\n",
       "      <td>0x29469395eaf6f95920e59f858042f0e28d98a20b</td>\n",
       "      <td>1.0</td>\n",
       "      <td>10740000000000000000</td>\n",
       "      <td>18.0</td>\n",
       "      <td>WETH</td>\n",
       "      <td>0xb7a33ac75bce22fe377f2b2acd856a47d746f5d6c5c35feaebdeb29a7b46ea0e</td>\n",
       "      <td>1719676931</td>\n",
       "    </tr>\n",
       "    <tr>\n",
       "      <th>4</th>\n",
       "      <td>pudgypenguins</td>\n",
       "      <td>sale</td>\n",
       "      <td>ethereum</td>\n",
       "      <td>2015</td>\n",
       "      <td>0xb5e14dcf2520d154606254094f32c8d32d509115</td>\n",
       "      <td>0x29469395eaf6f95920e59f858042f0e28d98a20b</td>\n",
       "      <td>1.0</td>\n",
       "      <td>10729999945999999400</td>\n",
       "      <td>18.0</td>\n",
       "      <td>ETH</td>\n",
       "      <td>0xcb4724885fbc0850f24c9ff31c4eb258aae496556f5badb4a8e310e57e6966bf</td>\n",
       "      <td>1719676895</td>\n",
       "    </tr>\n",
       "  </tbody>\n",
       "</table>\n",
       "</div>"
      ],
      "text/plain": [
       "      collection event_type     chain tokenId                                      seller                                       buyer  quantity                 price  decimals symbol                                                         transaction  event_timestamp\n",
       "0  pudgypenguins       sale  ethereum    4244  0x29469395eaf6f95920e59f858042f0e28d98a20b  0xa548d95378ec16e000563d89684c64869f72bc0d       1.0  10670000000000000000      18.0   WETH  0x23eb4e42b3166384d7782b210a4ecef27f68d15c994e622a824ebd7749a84fe9       1719699947\n",
       "1  pudgypenguins       sale  ethereum    8435  0x7182113e9902a3157bef685fbe02981ddf388ea3  0xa548d95378ec16e000563d89684c64869f72bc0d       1.0  10670000000000000000      18.0   WETH  0x33e4fac65b578d5c095923a08aded3c694dea8572f933f79f841d375748faae7       1719699575\n",
       "2  pudgypenguins       sale  ethereum    4436  0x96488f9fcd0c6997c771a26d85d1f61cacfa502c  0x1ea27bce786a81022dfc156059771e8d3279a9a6       1.0  10680000000000000000      18.0   WETH  0xa4ff7fca8114415714fa4f45df49806023920529791ee6a02ebd783ddac3fa41       1719693083\n",
       "3  pudgypenguins       sale  ethereum    3259  0xf13532cc8f5c700dd30f9faf8b833b38cf78c7d6  0x29469395eaf6f95920e59f858042f0e28d98a20b       1.0  10740000000000000000      18.0   WETH  0xb7a33ac75bce22fe377f2b2acd856a47d746f5d6c5c35feaebdeb29a7b46ea0e       1719676931\n",
       "4  pudgypenguins       sale  ethereum    2015  0xb5e14dcf2520d154606254094f32c8d32d509115  0x29469395eaf6f95920e59f858042f0e28d98a20b       1.0  10729999945999999400      18.0    ETH  0xcb4724885fbc0850f24c9ff31c4eb258aae496556f5badb4a8e310e57e6966bf       1719676895"
      ]
     },
     "execution_count": 2,
     "metadata": {},
     "output_type": "execute_result"
    }
   ],
   "source": [
    "# import file data_collection\n",
    "collection_data=[]\n",
    "with open ('data_collection.json','r') as file:\n",
    "    collection_data=json.load(file)\n",
    "\n",
    "df_collection_data = pd.DataFrame(collection_data)\n",
    "\n",
    "df_collection_data.head(5)"
   ]
  },
  {
   "cell_type": "markdown",
   "metadata": {},
   "source": [
    "Mục đích kiểm tra có nên đầu tư vào collection này hay không thông qua việc\n",
    "-   Xu hướng giá của collection\n",
    "-   Những wallets hoạt động mạnh, chủ yếu của collection\n",
    "-   Token nào hoạt động mạnh trong collection\n",
    "-   Thời gian hoạt động sale xảy ra mạnh nhất"
   ]
  },
  {
   "cell_type": "code",
   "execution_count": 3,
   "metadata": {},
   "outputs": [
    {
     "data": {
      "text/plain": [
       "(876, 12)"
      ]
     },
     "execution_count": 3,
     "metadata": {},
     "output_type": "execute_result"
    }
   ],
   "source": [
    "# xe số lượng hàng và cột\n",
    "df_collection_data.shape"
   ]
  },
  {
   "cell_type": "code",
   "execution_count": 4,
   "metadata": {},
   "outputs": [
    {
     "name": "stdout",
     "output_type": "stream",
     "text": [
      "collection\n",
      "False    876\n",
      "Name: count, dtype: int64\n",
      "event_type\n",
      "False    876\n",
      "Name: count, dtype: int64\n",
      "chain\n",
      "False    876\n",
      "Name: count, dtype: int64\n",
      "tokenId\n",
      "False    876\n",
      "Name: count, dtype: int64\n",
      "seller\n",
      "False    876\n",
      "Name: count, dtype: int64\n",
      "buyer\n",
      "False    876\n",
      "Name: count, dtype: int64\n",
      "quantity\n",
      "False    874\n",
      "True       2\n",
      "Name: count, dtype: int64\n",
      "price\n",
      "False    876\n",
      "Name: count, dtype: int64\n",
      "decimals\n",
      "False    875\n",
      "True       1\n",
      "Name: count, dtype: int64\n",
      "symbol\n",
      "False    876\n",
      "Name: count, dtype: int64\n",
      "transaction\n",
      "False    876\n",
      "Name: count, dtype: int64\n",
      "event_timestamp\n",
      "False    876\n",
      "Name: count, dtype: int64\n"
     ]
    }
   ],
   "source": [
    "# kiểm tra null\n",
    "missing_value =df_collection_data.isna()\n",
    "# đếm số lượng dữ liệu bị thiếu ở từng cột\n",
    "for column in missing_value.columns.values.tolist():\n",
    "    print(missing_value[column].value_counts())"
   ]
  },
  {
   "cell_type": "markdown",
   "metadata": {},
   "source": [
    "Giá trị True là null và False ngược lại\n",
    "# làm sạch dữ liệu\n",
    "Dữ liệu có thể có nhiều phần không liên quan và bị thiếu. Để xử lý phần này, cần phải làm sạch dữ liệu. Nó bao gồm việc xử lý dữ liệu bị thiếu, dữ liệu nhiễu, v.v. \n",
    "\n",
    "(a). Thiếu dữ liệu: \n",
    "Tình huống này phát sinh khi một số dữ liệu bị thiếu trong dữ liệu. Có thể xử lý theo nhiều cách khác nhau. \n",
    "1. Một số cách là: \n",
    "Bỏ qua các bộ dữ liệu: \n",
    "Cách tiếp cận này chỉ phù hợp khi tập dữ liệu chúng ta có khá lớn và nhiều giá trị bị thiếu trong một bộ dữ liệu. \n",
    " \n",
    "2. Điền các giá trị còn thiếu: \n",
    "Có nhiều cách khác nhau để thực hiện nhiệm vụ này. Bạn có thể chọn điền các giá trị còn thiếu theo cách thủ công, theo giá trị trung bình thuộc tính hoặc giá trị có khả năng xảy ra nhất. \n"
   ]
  },
  {
   "cell_type": "code",
   "execution_count": 5,
   "metadata": {},
   "outputs": [
    {
     "data": {
      "text/html": [
       "<div>\n",
       "<style scoped>\n",
       "    .dataframe tbody tr th:only-of-type {\n",
       "        vertical-align: middle;\n",
       "    }\n",
       "\n",
       "    .dataframe tbody tr th {\n",
       "        vertical-align: top;\n",
       "    }\n",
       "\n",
       "    .dataframe thead th {\n",
       "        text-align: right;\n",
       "    }\n",
       "</style>\n",
       "<table border=\"1\" class=\"dataframe\">\n",
       "  <thead>\n",
       "    <tr style=\"text-align: right;\">\n",
       "      <th></th>\n",
       "      <th>collection</th>\n",
       "      <th>event_type</th>\n",
       "      <th>chain</th>\n",
       "      <th>tokenId</th>\n",
       "      <th>seller</th>\n",
       "      <th>buyer</th>\n",
       "      <th>quantity</th>\n",
       "      <th>price</th>\n",
       "      <th>decimals</th>\n",
       "      <th>symbol</th>\n",
       "      <th>transaction</th>\n",
       "      <th>event_timestamp</th>\n",
       "    </tr>\n",
       "  </thead>\n",
       "  <tbody>\n",
       "    <tr>\n",
       "      <th>68</th>\n",
       "      <td>pudgypenguins</td>\n",
       "      <td>sale</td>\n",
       "      <td>ethereum</td>\n",
       "      <td>5410</td>\n",
       "      <td>0xac32967007909f5b312557e4909cb73a3dea3d8d</td>\n",
       "      <td>0x3aa31682516718eabd7ab86c8926699bc7e38969</td>\n",
       "      <td>NaN</td>\n",
       "      <td>9400000000000000000</td>\n",
       "      <td>18.0</td>\n",
       "      <td>ETH</td>\n",
       "      <td>0x2ef254f9f2aa59e028381bd00c1836594ccdae2acf8d09e6fe6a435fa638a6e6</td>\n",
       "      <td>1719589427</td>\n",
       "    </tr>\n",
       "    <tr>\n",
       "      <th>70</th>\n",
       "      <td>pudgypenguins</td>\n",
       "      <td>sale</td>\n",
       "      <td>ethereum</td>\n",
       "      <td>4496</td>\n",
       "      <td>0x9425d93fa42eb85fb4ec02e5e92e63c4251eb45f</td>\n",
       "      <td>0x29469395eaf6f95920e59f858042f0e28d98a20b</td>\n",
       "      <td>NaN</td>\n",
       "      <td>9392000000000000000</td>\n",
       "      <td>18.0</td>\n",
       "      <td>WETH</td>\n",
       "      <td>0xbc86a5b9e29e46f2c9de2d0dbd6e4cce47328e36df17a41eb010007ad93cc38c</td>\n",
       "      <td>1719589415</td>\n",
       "    </tr>\n",
       "    <tr>\n",
       "      <th>875</th>\n",
       "      <td>pudgypenguins</td>\n",
       "      <td>sale</td>\n",
       "      <td>ethereum</td>\n",
       "      <td>7968</td>\n",
       "      <td>0x29469395eaf6f95920e59f858042f0e28d98a20b</td>\n",
       "      <td>0x13747adca0ce7e7f6aa661718a07e4c74e62ed19</td>\n",
       "      <td>1.0</td>\n",
       "      <td>10620000000000000000</td>\n",
       "      <td>NaN</td>\n",
       "      <td>WETH</td>\n",
       "      <td>0x05361c05571b3138ad56fb3ccec4f03e9314c515f0d80653c043ef855bfc12e8</td>\n",
       "      <td>1717253927</td>\n",
       "    </tr>\n",
       "  </tbody>\n",
       "</table>\n",
       "</div>"
      ],
      "text/plain": [
       "        collection event_type     chain tokenId                                      seller                                       buyer  quantity                 price  decimals symbol                                                         transaction  event_timestamp\n",
       "68   pudgypenguins       sale  ethereum    5410  0xac32967007909f5b312557e4909cb73a3dea3d8d  0x3aa31682516718eabd7ab86c8926699bc7e38969       NaN   9400000000000000000      18.0    ETH  0x2ef254f9f2aa59e028381bd00c1836594ccdae2acf8d09e6fe6a435fa638a6e6       1719589427\n",
       "70   pudgypenguins       sale  ethereum    4496  0x9425d93fa42eb85fb4ec02e5e92e63c4251eb45f  0x29469395eaf6f95920e59f858042f0e28d98a20b       NaN   9392000000000000000      18.0   WETH  0xbc86a5b9e29e46f2c9de2d0dbd6e4cce47328e36df17a41eb010007ad93cc38c       1719589415\n",
       "875  pudgypenguins       sale  ethereum    7968  0x29469395eaf6f95920e59f858042f0e28d98a20b  0x13747adca0ce7e7f6aa661718a07e4c74e62ed19       1.0  10620000000000000000       NaN   WETH  0x05361c05571b3138ad56fb3ccec4f03e9314c515f0d80653c043ef855bfc12e8       1717253927"
      ]
     },
     "execution_count": 5,
     "metadata": {},
     "output_type": "execute_result"
    }
   ],
   "source": [
    "df_filtered = df_collection_data[df_collection_data['quantity'].isnull() | df_collection_data['decimals'].isnull()]\n",
    "df_filtered"
   ]
  },
  {
   "cell_type": "code",
   "execution_count": 6,
   "metadata": {},
   "outputs": [],
   "source": [
    "# Mỗi token là duy nhất giá trị của token số lượng luôn là 1\n",
    "df_collection_data['quantity'] =1"
   ]
  },
  {
   "cell_type": "markdown",
   "metadata": {},
   "source": [
    "Đối với decimal,token_address thì chúng ta cần dựa vào symbol để điền giá trị phù hợp\n",
    "decimal của token đề cập đến đơn vị nhỏ nhất mà mã thông báo tiền điện tử có thể được chia. Nó cho biết mã thông báo có thể có bao nhiêu vị trí thập phân khi được giao dịch hoặc đại diện. Số thập phân là một phần thông số kỹ thuật của mã thông báo và được xác định trong hợp đồng thông minh của nó. Sau khi được đặt, số thập phân của mã thông báo phải không thay đổi, vì việc thay đổi giá trị thập phân có thể dẫn đến sự không nhất quán và lỗi trong giao dịch mã thông báo\n",
    "WETH có decimal là 18, ETH có decimal là 18,.."
   ]
  },
  {
   "cell_type": "code",
   "execution_count": 7,
   "metadata": {},
   "outputs": [
    {
     "name": "stdout",
     "output_type": "stream",
     "text": [
      "collection: ['pudgypenguins']\n",
      "decimal: [18.  8.  6. nan]\n",
      "symbol: ['WETH' 'ETH' 'USDC']\n"
     ]
    }
   ],
   "source": [
    "# tìm kiếm collection\n",
    "unique_collection = df_collection_data['collection'].unique()\n",
    "print('collection:', unique_collection)\n",
    "# unique_decimal\n",
    "unique_decimal = df_collection_data['decimals'].unique()\n",
    "print('decimal:', unique_decimal)\n",
    "# unique_symbol\n",
    "unique_symbol = df_collection_data['symbol'].unique()\n",
    "print('symbol:', unique_symbol)"
   ]
  },
  {
   "cell_type": "code",
   "execution_count": 8,
   "metadata": {},
   "outputs": [
    {
     "data": {
      "text/html": [
       "<div>\n",
       "<style scoped>\n",
       "    .dataframe tbody tr th:only-of-type {\n",
       "        vertical-align: middle;\n",
       "    }\n",
       "\n",
       "    .dataframe tbody tr th {\n",
       "        vertical-align: top;\n",
       "    }\n",
       "\n",
       "    .dataframe thead th {\n",
       "        text-align: right;\n",
       "    }\n",
       "</style>\n",
       "<table border=\"1\" class=\"dataframe\">\n",
       "  <thead>\n",
       "    <tr style=\"text-align: right;\">\n",
       "      <th></th>\n",
       "      <th>decimals</th>\n",
       "      <th>symbol</th>\n",
       "    </tr>\n",
       "    <tr>\n",
       "      <th>symbol</th>\n",
       "      <th></th>\n",
       "      <th></th>\n",
       "    </tr>\n",
       "  </thead>\n",
       "  <tbody>\n",
       "    <tr>\n",
       "      <th>ETH</th>\n",
       "      <td>183</td>\n",
       "      <td>183</td>\n",
       "    </tr>\n",
       "    <tr>\n",
       "      <th>USDC</th>\n",
       "      <td>1</td>\n",
       "      <td>1</td>\n",
       "    </tr>\n",
       "    <tr>\n",
       "      <th>WETH</th>\n",
       "      <td>692</td>\n",
       "      <td>692</td>\n",
       "    </tr>\n",
       "  </tbody>\n",
       "</table>\n",
       "</div>"
      ],
      "text/plain": [
       "        decimals  symbol\n",
       "symbol                  \n",
       "ETH          183     183\n",
       "USDC           1       1\n",
       "WETH         692     692"
      ]
     },
     "execution_count": 8,
     "metadata": {},
     "output_type": "execute_result"
    }
   ],
   "source": [
    "df_collection_data['decimals'] = df_collection_data['symbol'].apply(lambda x: 18 if x in ['WETH', 'ETH'] else 6)\n",
    "\n",
    "df_collection_data.groupby('symbol')[['decimals', 'symbol']].count()\n"
   ]
  },
  {
   "cell_type": "code",
   "execution_count": 9,
   "metadata": {},
   "outputs": [
    {
     "name": "stdout",
     "output_type": "stream",
     "text": [
      "collection\n",
      "False    876\n",
      "Name: count, dtype: int64\n",
      "event_type\n",
      "False    876\n",
      "Name: count, dtype: int64\n",
      "chain\n",
      "False    876\n",
      "Name: count, dtype: int64\n",
      "tokenId\n",
      "False    876\n",
      "Name: count, dtype: int64\n",
      "seller\n",
      "False    876\n",
      "Name: count, dtype: int64\n",
      "buyer\n",
      "False    876\n",
      "Name: count, dtype: int64\n",
      "quantity\n",
      "False    876\n",
      "Name: count, dtype: int64\n",
      "price\n",
      "False    876\n",
      "Name: count, dtype: int64\n",
      "decimals\n",
      "False    876\n",
      "Name: count, dtype: int64\n",
      "symbol\n",
      "False    876\n",
      "Name: count, dtype: int64\n",
      "transaction\n",
      "False    876\n",
      "Name: count, dtype: int64\n",
      "event_timestamp\n",
      "False    876\n",
      "Name: count, dtype: int64\n"
     ]
    }
   ],
   "source": [
    "missing_value =df_collection_data.isna()\n",
    "# đếm số lượng dữ liệu bị thiếu ở từng cột\n",
    "for column in missing_value.columns.values.tolist():\n",
    "    print(missing_value[column].value_counts())"
   ]
  },
  {
   "cell_type": "code",
   "execution_count": 10,
   "metadata": {},
   "outputs": [
    {
     "data": {
      "text/plain": [
       "collection         object\n",
       "event_type         object\n",
       "chain              object\n",
       "tokenId            object\n",
       "seller             object\n",
       "buyer              object\n",
       "quantity            int64\n",
       "price              object\n",
       "decimals            int64\n",
       "symbol             object\n",
       "transaction        object\n",
       "event_timestamp     int64\n",
       "dtype: object"
      ]
     },
     "execution_count": 10,
     "metadata": {},
     "output_type": "execute_result"
    }
   ],
   "source": [
    "# chuyển đổi kiểu dữ liệu\n",
    "df_collection_data.dtypes"
   ]
  },
  {
   "cell_type": "code",
   "execution_count": 11,
   "metadata": {},
   "outputs": [],
   "source": [
    "# chuyển đổi định dạng cột time\n",
    "df_collection_data['event_timestamp'] = pd.to_datetime(df_collection_data['event_timestamp'], unit='s')\n",
    "# chuyển đổi kiểu dữ liệu cột payment quantity\n",
    "df_collection_data['price'] = df_collection_data['price'].astype('float64')"
   ]
  },
  {
   "cell_type": "code",
   "execution_count": 12,
   "metadata": {},
   "outputs": [
    {
     "data": {
      "text/plain": [
       "collection                 object\n",
       "event_type                 object\n",
       "chain                      object\n",
       "tokenId                    object\n",
       "seller                     object\n",
       "buyer                      object\n",
       "quantity                    int64\n",
       "price                     float64\n",
       "decimals                    int64\n",
       "symbol                     object\n",
       "transaction                object\n",
       "event_timestamp    datetime64[ns]\n",
       "dtype: object"
      ]
     },
     "execution_count": 12,
     "metadata": {},
     "output_type": "execute_result"
    }
   ],
   "source": [
    "df_collection_data.dtypes"
   ]
  },
  {
   "cell_type": "code",
   "execution_count": 13,
   "metadata": {},
   "outputs": [],
   "source": [
    "\n",
    "\n",
    "# Function to adjust price and convert to ETH\n",
    "def adjust_price(row):\n",
    "    adjusted_price = row['price'] / (10 ** row['decimals'])\n",
    "    if row['symbol'] == 'WETH':\n",
    "        return round(adjusted_price * 0.9896, 4)\n",
    "    elif row['symbol'] == 'USDC':\n",
    "        return round(adjusted_price * 0.00031, 4)\n",
    "    else:\n",
    "      return adjusted_price  \n",
    "\n",
    "# Apply the function to each row\n",
    "df_collection_data['price'] = df_collection_data.apply(adjust_price, axis=1)\n"
   ]
  },
  {
   "cell_type": "code",
   "execution_count": 14,
   "metadata": {},
   "outputs": [
    {
     "data": {
      "text/html": [
       "<div>\n",
       "<style scoped>\n",
       "    .dataframe tbody tr th:only-of-type {\n",
       "        vertical-align: middle;\n",
       "    }\n",
       "\n",
       "    .dataframe tbody tr th {\n",
       "        vertical-align: top;\n",
       "    }\n",
       "\n",
       "    .dataframe thead th {\n",
       "        text-align: right;\n",
       "    }\n",
       "</style>\n",
       "<table border=\"1\" class=\"dataframe\">\n",
       "  <thead>\n",
       "    <tr style=\"text-align: right;\">\n",
       "      <th></th>\n",
       "      <th>collection</th>\n",
       "      <th>event_type</th>\n",
       "      <th>chain</th>\n",
       "      <th>tokenId</th>\n",
       "      <th>seller</th>\n",
       "      <th>buyer</th>\n",
       "      <th>quantity</th>\n",
       "      <th>price</th>\n",
       "      <th>decimals</th>\n",
       "      <th>symbol</th>\n",
       "      <th>transaction</th>\n",
       "      <th>event_timestamp</th>\n",
       "    </tr>\n",
       "  </thead>\n",
       "  <tbody>\n",
       "    <tr>\n",
       "      <th>0</th>\n",
       "      <td>pudgypenguins</td>\n",
       "      <td>sale</td>\n",
       "      <td>ethereum</td>\n",
       "      <td>4244</td>\n",
       "      <td>0x29469395eaf6f95920e59f858042f0e28d98a20b</td>\n",
       "      <td>0xa548d95378ec16e000563d89684c64869f72bc0d</td>\n",
       "      <td>1</td>\n",
       "      <td>10.5590</td>\n",
       "      <td>18</td>\n",
       "      <td>WETH</td>\n",
       "      <td>0x23eb4e42b3166384d7782b210a4ecef27f68d15c994e622a824ebd7749a84fe9</td>\n",
       "      <td>2024-06-29 22:25:47</td>\n",
       "    </tr>\n",
       "    <tr>\n",
       "      <th>1</th>\n",
       "      <td>pudgypenguins</td>\n",
       "      <td>sale</td>\n",
       "      <td>ethereum</td>\n",
       "      <td>8435</td>\n",
       "      <td>0x7182113e9902a3157bef685fbe02981ddf388ea3</td>\n",
       "      <td>0xa548d95378ec16e000563d89684c64869f72bc0d</td>\n",
       "      <td>1</td>\n",
       "      <td>10.5590</td>\n",
       "      <td>18</td>\n",
       "      <td>WETH</td>\n",
       "      <td>0x33e4fac65b578d5c095923a08aded3c694dea8572f933f79f841d375748faae7</td>\n",
       "      <td>2024-06-29 22:19:35</td>\n",
       "    </tr>\n",
       "    <tr>\n",
       "      <th>2</th>\n",
       "      <td>pudgypenguins</td>\n",
       "      <td>sale</td>\n",
       "      <td>ethereum</td>\n",
       "      <td>4436</td>\n",
       "      <td>0x96488f9fcd0c6997c771a26d85d1f61cacfa502c</td>\n",
       "      <td>0x1ea27bce786a81022dfc156059771e8d3279a9a6</td>\n",
       "      <td>1</td>\n",
       "      <td>10.5689</td>\n",
       "      <td>18</td>\n",
       "      <td>WETH</td>\n",
       "      <td>0xa4ff7fca8114415714fa4f45df49806023920529791ee6a02ebd783ddac3fa41</td>\n",
       "      <td>2024-06-29 20:31:23</td>\n",
       "    </tr>\n",
       "    <tr>\n",
       "      <th>3</th>\n",
       "      <td>pudgypenguins</td>\n",
       "      <td>sale</td>\n",
       "      <td>ethereum</td>\n",
       "      <td>3259</td>\n",
       "      <td>0xf13532cc8f5c700dd30f9faf8b833b38cf78c7d6</td>\n",
       "      <td>0x29469395eaf6f95920e59f858042f0e28d98a20b</td>\n",
       "      <td>1</td>\n",
       "      <td>10.6283</td>\n",
       "      <td>18</td>\n",
       "      <td>WETH</td>\n",
       "      <td>0xb7a33ac75bce22fe377f2b2acd856a47d746f5d6c5c35feaebdeb29a7b46ea0e</td>\n",
       "      <td>2024-06-29 16:02:11</td>\n",
       "    </tr>\n",
       "    <tr>\n",
       "      <th>4</th>\n",
       "      <td>pudgypenguins</td>\n",
       "      <td>sale</td>\n",
       "      <td>ethereum</td>\n",
       "      <td>2015</td>\n",
       "      <td>0xb5e14dcf2520d154606254094f32c8d32d509115</td>\n",
       "      <td>0x29469395eaf6f95920e59f858042f0e28d98a20b</td>\n",
       "      <td>1</td>\n",
       "      <td>10.7300</td>\n",
       "      <td>18</td>\n",
       "      <td>ETH</td>\n",
       "      <td>0xcb4724885fbc0850f24c9ff31c4eb258aae496556f5badb4a8e310e57e6966bf</td>\n",
       "      <td>2024-06-29 16:01:35</td>\n",
       "    </tr>\n",
       "  </tbody>\n",
       "</table>\n",
       "</div>"
      ],
      "text/plain": [
       "      collection event_type     chain tokenId                                      seller                                       buyer  quantity    price  decimals symbol                                                         transaction     event_timestamp\n",
       "0  pudgypenguins       sale  ethereum    4244  0x29469395eaf6f95920e59f858042f0e28d98a20b  0xa548d95378ec16e000563d89684c64869f72bc0d         1  10.5590        18   WETH  0x23eb4e42b3166384d7782b210a4ecef27f68d15c994e622a824ebd7749a84fe9 2024-06-29 22:25:47\n",
       "1  pudgypenguins       sale  ethereum    8435  0x7182113e9902a3157bef685fbe02981ddf388ea3  0xa548d95378ec16e000563d89684c64869f72bc0d         1  10.5590        18   WETH  0x33e4fac65b578d5c095923a08aded3c694dea8572f933f79f841d375748faae7 2024-06-29 22:19:35\n",
       "2  pudgypenguins       sale  ethereum    4436  0x96488f9fcd0c6997c771a26d85d1f61cacfa502c  0x1ea27bce786a81022dfc156059771e8d3279a9a6         1  10.5689        18   WETH  0xa4ff7fca8114415714fa4f45df49806023920529791ee6a02ebd783ddac3fa41 2024-06-29 20:31:23\n",
       "3  pudgypenguins       sale  ethereum    3259  0xf13532cc8f5c700dd30f9faf8b833b38cf78c7d6  0x29469395eaf6f95920e59f858042f0e28d98a20b         1  10.6283        18   WETH  0xb7a33ac75bce22fe377f2b2acd856a47d746f5d6c5c35feaebdeb29a7b46ea0e 2024-06-29 16:02:11\n",
       "4  pudgypenguins       sale  ethereum    2015  0xb5e14dcf2520d154606254094f32c8d32d509115  0x29469395eaf6f95920e59f858042f0e28d98a20b         1  10.7300        18    ETH  0xcb4724885fbc0850f24c9ff31c4eb258aae496556f5badb4a8e310e57e6966bf 2024-06-29 16:01:35"
      ]
     },
     "execution_count": 14,
     "metadata": {},
     "output_type": "execute_result"
    }
   ],
   "source": [
    "df_collection_data.head(5)"
   ]
  },
  {
   "cell_type": "code",
   "execution_count": 15,
   "metadata": {},
   "outputs": [
    {
     "name": "stderr",
     "output_type": "stream",
     "text": [
      "C:\\Users\\ADMIN\\AppData\\Local\\Temp\\ipykernel_3508\\4052079276.py:3: SettingWithCopyWarning: \n",
      "A value is trying to be set on a copy of a slice from a DataFrame.\n",
      "Try using .loc[row_indexer,col_indexer] = value instead\n",
      "\n",
      "See the caveats in the documentation: https://pandas.pydata.org/pandas-docs/stable/user_guide/indexing.html#returning-a-view-versus-a-copy\n",
      "  df['event_timestamp'] = df['event_timestamp'].dt.date\n"
     ]
    }
   ],
   "source": [
    "# volumn\n",
    "df = df_collection_data[['event_timestamp','price']]\n",
    "df['event_timestamp'] = df['event_timestamp'].dt.date\n",
    "# Calculate average price\n",
    "df_avg_price = df.groupby('event_timestamp')['price'].mean().reset_index()\n",
    "df_avg_price.columns = ['event_timestamp', 'avg_price']\n",
    "\n",
    "# Calculate total volume (sum of prices)\n",
    "df_volume = df.groupby('event_timestamp')['price'].sum().reset_index()\n",
    "df_volume.columns = ['event_timestamp', 'total_volume']\n",
    "\n",
    "# Merge the two DataFrames based on 'event_timestamp'\n",
    "df_combined = pd.merge(df_avg_price, df_volume, on='event_timestamp')"
   ]
  },
  {
   "cell_type": "code",
   "execution_count": 16,
   "metadata": {},
   "outputs": [
    {
     "data": {
      "image/png": "[encoded data removed]",
      "text/plain": [
       "<Figure size 1500x900 with 2 Axes>"
      ]
     },
     "metadata": {},
     "output_type": "display_data"
    }
   ],
   "source": [
    "import matplotlib.pyplot as plt\n",
    "import pandas as pd\n",
    "\n",
    "df_plot = pd.DataFrame(df_combined)\n",
    "\n",
    "\n",
    "# Tạo figure và axes\n",
    "fig, ax1 = plt.subplots(figsize=(15,9))\n",
    "\n",
    "# Vẽ biểu đồ cột trên trục ax1\n",
    "ax1.bar(df_combined['event_timestamp'],df_combined['total_volume'], color='blue', alpha=0.7)\n",
    "ax1.set_ylabel('Total Volume (ETH)', color='blue')\n",
    "ax1.tick_params(axis='y', labelcolor='blue')\n",
    "\n",
    "# Tạo một secondary y-axis\n",
    "ax2 = ax1.twinx()\n",
    "\n",
    "# Vẽ biểu đồ đường trên trục ax2\n",
    "ax2.plot(df_combined['event_timestamp'], df_combined['avg_price'], color='red', marker='o')\n",
    "ax2.set_ylabel('Average Price (ETH)', color='red')\n",
    "ax2.tick_params(axis='y', labelcolor='red')\n",
    "\n",
    "# Đặt tiêu đề cho biểu đồ và cho các trục\n",
    "plt.title('Total Volume and Average Price Over Time')\n",
    "plt.xlabel('Event Timestamp')\n",
    "\n",
    "# Hiển thị biểu đồ\n",
    "plt.show()"
   ]
  },
  {
   "cell_type": "code",
   "execution_count": 17,
   "metadata": {},
   "outputs": [
    {
     "data": {
      "text/plain": [
       "<Axes: title={'center': 'Giá theo thời gian'}, xlabel='Date', ylabel='price'>"
      ]
     },
     "execution_count": 17,
     "metadata": {},
     "output_type": "execute_result"
    },
    {
     "data": {
      "image/png": "[encoded data removed]",
      "text/plain": [
       "<Figure size 1500x700 with 1 Axes>"
      ]
     },
     "metadata": {},
     "output_type": "display_data"
    }
   ],
   "source": [
    "\n",
    "# vẽ biểu đồ price theo timestamp\n",
    "df_collection_data.plot(y='price', x='event_timestamp', title='Giá theo thời gian', ylabel='price', xlabel='Date', figsize=(15,7))"
   ]
  },
  {
   "cell_type": "code",
   "execution_count": 18,
   "metadata": {},
   "outputs": [
    {
     "data": {
      "text/plain": [
       "tokenId\n",
       "3514    15\n",
       "5443    14\n",
       "4167    12\n",
       "817     11\n",
       "5314     8\n",
       "6239     7\n",
       "3034     7\n",
       "8063     7\n",
       "5410     7\n",
       "4216     7\n",
       "Name: tokenId, dtype: int64"
      ]
     },
     "execution_count": 18,
     "metadata": {},
     "output_type": "execute_result"
    }
   ],
   "source": [
    "# token được giao dịch nhiều nhất\n",
    "df_collection_data.groupby('tokenId')['tokenId'].count().sort_values(ascending=False).head(10)\n",
    "\n",
    "# df_collection_data.groupby('tokenId')['price'].sum().sort_values()"
   ]
  }
 ],
 "metadata": {
  "kernelspec": {
   "display_name": "Python 3",
   "language": "python",
   "name": "python3"
  },
  "language_info": {
   "codemirror_mode": {
    "name": "ipython",
    "version": 3
   },
   "file_extension": ".py",
   "mimetype": "text/x-python",
   "name": "python",
   "nbconvert_exporter": "python",
   "pygments_lexer": "ipython3",
   "version": "3.12.2"
  }
 },
 "nbformat": 4,
 "nbformat_minor": 2
}
