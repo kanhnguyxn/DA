{
 "cells": [
  {
   "cell_type": "code",
   "execution_count": 2,
   "metadata": {},
   "outputs": [],
   "source": [
    "import requests\n",
    "import pandas as pd\n",
    "import time\n",
    "import json"
   ]
  },
  {
   "cell_type": "code",
   "execution_count": 3,
   "metadata": {},
   "outputs": [],
   "source": [
    "headers={\n",
    "    'accept': 'application/json',\n",
    "    'x-api-key':'39d690c5c73a4d1984b3dd0185e07e62'\n",
    "}"
   ]
  },
  {
   "cell_type": "code",
   "execution_count": 1,
   "metadata": {},
   "outputs": [],
   "source": [
    "# def get_collections():\n",
    "#     url = f'https://api.opensea.io/api/v2/collections'\n",
    "#     params = {\n",
    "#         'order_by': 'seven_day_volume',\n",
    "#         'limit': 50,\n",
    "#     }\n",
    "#     next_page = False\n",
    "#     data = []\n",
    "#     loop =0\n",
    "#     while loop<=1:\n",
    "#         try:\n",
    "#             if next_page:\n",
    "#                 params['next'] = next_page\n",
    "#             response = requests.get(url, params=params, headers=headers)\n",
    "#             response.raise_for_status()\n",
    "#             collections = response.json().get('collections', [])\n",
    "#             if collections:\n",
    "#                 for collection in collections:\n",
    "#                     data.append({\n",
    "#                         'collection': collection.get('collection', ''),\n",
    "#                         'name': collection.get('name', ''),\n",
    "#                         'owner': collection.get('owner', ''),\n",
    "#                         'contracts_address': collection['contracts'][0].get('address', '') if 'contracts' in collection and collection['contracts'] else '',\n",
    "#                         'chain': 'ethereum'\n",
    "#                     })\n",
    "#             next_page = response.json().get('next', None)\n",
    "#             if not next_page:\n",
    "#                 break\n",
    "#         except requests.exceptions.RequestException as e:\n",
    "#             print('Error:', e)\n",
    "#             break\n",
    "#         loop =loop+1\n",
    "\n",
    "#     return data\n",
    "\n",
    "def get_all_events_by_collection(collection, event_type='sale'):\n",
    "    base_url = f'https://api.opensea.io/api/v2/events/collection/{collection}'\n",
    "    params = {'event_type': event_type,\n",
    "              'after':1717200000,\n",
    "              'before':1719705600}\n",
    "    events_data = []\n",
    "    next_page = False\n",
    "    loop=0\n",
    "    while True:\n",
    "        try:\n",
    "            if next_page:\n",
    "                params['next'] = next_page\n",
    "            response = requests.get(base_url, params=params, headers=headers)\n",
    "            response.raise_for_status()\n",
    "            json_data = response.json()\n",
    "            events = json_data.get('asset_events', [])\n",
    "            \n",
    "            if not events:\n",
    "                print(f'No {event_type} events found for collection {collection}')\n",
    "                break\n",
    "            for event in events:\n",
    "                event_details = {\n",
    "                    'collection': collection,\n",
    "                    'event_type': event.get('event_type'),\n",
    "                    'chain': event.get('chain'),\n",
    "                    'tokenId': event.get('nft', {}).get('identifier') if isinstance(event.get('nft'), dict) else None,\n",
    "                    'seller': event.get('seller'),\n",
    "                    'buyer': event.get('buyer'),\n",
    "                    'quantity': event.get('quantity'),\n",
    "                    'price': event.get('payment', {}).get('quantity') if isinstance(event.get('payment'), dict) else None,\n",
    "                    'decimals': event.get('payment', {}).get('decimals') if isinstance(event.get('payment'), dict) else None,\n",
    "                    'symbol': event.get('payment', {}).get('symbol') if isinstance(event.get('payment'), dict) else None,\n",
    "                    'transaction': event.get('transaction'),\n",
    "                    'event_timestamp': event.get('event_timestamp')\n",
    "                }\n",
    "                events_data.append(event_details)\n",
    "            next_page = json_data.get('next')\n",
    "            if not next_page:\n",
    "                break\n",
    "            \n",
    "        except requests.RequestException as e:\n",
    "            print(f'Error fetching data: {e}')\n",
    "            time.sleep(5)\n",
    "            continue\n",
    "        loop = loop+1\n",
    "        print(loop)\n",
    "\n",
    "    return events_data"
   ]
  },
  {
   "cell_type": "code",
   "execution_count": null,
   "metadata": {},
   "outputs": [],
   "source": [
    "# collections_data = get_collections()\n",
    "# collections_data = pd.DataFrame(collections_data)"
   ]
  },
  {
   "cell_type": "code",
   "execution_count": null,
   "metadata": {},
   "outputs": [],
   "source": [
    "# collections_data.to_json('collections.json', orient ='records', indent =3)"
   ]
  },
  {
   "cell_type": "code",
   "execution_count": 4,
   "metadata": {},
   "outputs": [
    {
     "name": "stdout",
     "output_type": "stream",
     "text": [
      "1\n",
      "2\n",
      "3\n",
      "4\n",
      "5\n",
      "6\n",
      "7\n",
      "8\n",
      "9\n",
      "10\n",
      "11\n",
      "12\n",
      "13\n",
      "14\n",
      "15\n",
      "16\n",
      "17\n"
     ]
    }
   ],
   "source": [
    "# lấy event\n",
    "data = get_all_events_by_collection('pudgypenguins')\n",
    "    "
   ]
  },
  {
   "cell_type": "code",
   "execution_count": 5,
   "metadata": {},
   "outputs": [],
   "source": [
    "data = pd.DataFrame(data)\n",
    "data.to_json('data_collection.json',orient = 'records', indent =3)"
   ]
  }
 ],
 "metadata": {
  "kernelspec": {
   "display_name": "Python 3",
   "language": "python",
   "name": "python3"
  },
  "language_info": {
   "codemirror_mode": {
    "name": "ipython",
    "version": 3
   },
   "file_extension": ".py",
   "mimetype": "text/x-python",
   "name": "python",
   "nbconvert_exporter": "python",
   "pygments_lexer": "ipython3",
   "version": "3.12.2"
  }
 },
 "nbformat": 4,
 "nbformat_minor": 2
}
